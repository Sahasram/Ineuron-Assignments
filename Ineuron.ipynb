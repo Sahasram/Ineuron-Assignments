{
  "nbformat": 4,
  "nbformat_minor": 0,
  "metadata": {
    "colab": {
      "name": "Ineuron.ipynb",
      "provenance": [],
      "collapsed_sections": [],
      "authorship_tag": "ABX9TyM0ludvhtLcWkqqKVbesOkW",
      "include_colab_link": true
    },
    "kernelspec": {
      "name": "python3",
      "display_name": "Python 3"
    }
  },
  "cells": [
    {
      "cell_type": "markdown",
      "metadata": {
        "id": "view-in-github",
        "colab_type": "text"
      },
      "source": [
        "<a href=\"https://colab.research.google.com/github/Sahasram/Ineuron-Assignments/blob/main/Ineuron.ipynb\" target=\"_parent\"><img src=\"https://colab.research.google.com/assets/colab-badge.svg\" alt=\"Open In Colab\"/></a>"
      ]
    },
    {
      "cell_type": "markdown",
      "metadata": {
        "id": "BITPSgfMfP7q"
      },
      "source": [
        "# Assignment 1\n",
        " Write a program which will find all such numbers which are divisible by 7 but are not a multiple of 5, between 2000 and 3200 (both included). The numbers obtained should be printed  in a comma-separated sequence on a single line. \n"
      ]
    },
    {
      "cell_type": "code",
      "metadata": {
        "id": "jG_ArI6jftzd"
      },
      "source": [
        ""
      ],
      "execution_count": null,
      "outputs": []
    },
    {
      "cell_type": "markdown",
      "metadata": {
        "id": "i1FE8-fxf0vS"
      },
      "source": [
        "Write a Python program to accept the user's first and last name and then getting them printed in the the reverse order with a space between first name and last name.\n"
      ]
    },
    {
      "cell_type": "code",
      "metadata": {
        "id": "h8bNkCJBgIzp"
      },
      "source": [
        ""
      ],
      "execution_count": null,
      "outputs": []
    },
    {
      "cell_type": "markdown",
      "metadata": {
        "id": "KxJP5Or1gPzj"
      },
      "source": [
        " Write a Python program to find the volume of a sphere with diameter 12 cm.Formula: V=4/3 * π * r 3 \n"
      ]
    },
    {
      "cell_type": "code",
      "metadata": {
        "id": "1OSEU_-vgQ34"
      },
      "source": [
        ""
      ],
      "execution_count": null,
      "outputs": []
    }
  ]
}